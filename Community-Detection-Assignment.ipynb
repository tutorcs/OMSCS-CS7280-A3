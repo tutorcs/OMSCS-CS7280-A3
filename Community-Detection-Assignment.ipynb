{
 "cells": [
  {
   "cell_type": "code",
   "execution_count": null,
   "metadata": {
    "pycharm": {
     "name": "#%%\n"
    }
   },
   "outputs": [],
   "source": [
    "import community as community_louvain\n",
    "import matplotlib.cm as cm\n",
    "import matplotlib.pyplot as plt\n",
    "import networkx as nx\n",
    "from networkx.algorithms.community import k_clique_communities\n",
    "from networkx.algorithms.community import greedy_modularity_communities\n",
    "import numpy as np\n",
    "from sklearn.metrics.cluster import adjusted_rand_score"
   ]
  },
  {
   "cell_type": "markdown",
   "source": [
    "# Part 2 - Community Detection\n",
    "\n",
    "## Part A : Zachary's Karate Club"
   ],
   "metadata": {
    "collapsed": false,
    "pycharm": {
     "name": "#%% md\n"
    }
   }
  },
  {
   "cell_type": "code",
   "execution_count": null,
   "metadata": {
    "pycharm": {
     "name": "#%%\n"
    }
   },
   "outputs": [],
   "source": [
    "# This ground truth is different from on ones in the book and lectures, but for this problem please treat it as the actual ground truth.\n",
    "G = nx.karate_club_graph()\n",
    "ground_truth = [0, 0, 0, 0, 0, \n",
    "                0, 0, 0, 1, 1, \n",
    "                0, 0, 0, 0, 1, \n",
    "                1, 0, 0, 1, 0, \n",
    "                1, 0, 1, 1, 1,\n",
    "                1, 1, 1, 1, 1,\n",
    "                1, 1, 1, 1]\n",
    "# Write the code for part A"
   ]
  },
  {
   "cell_type": "code",
   "execution_count": null,
   "metadata": {
    "pycharm": {
     "name": "#%%\n"
    }
   },
   "outputs": [],
   "source": [
    "# B part\n",
    "# Generating the LFR Benchmark Network\n",
    "def generate_network(mu):\n",
    "    n = 500\n",
    "    tau1 = 2.5\n",
    "    tau2 = 2\n",
    "    G = nx.LFR_benchmark_graph(n, tau1, tau2, mu, average_degree=5, min_community=40, seed=10)\n",
    "    communities = {frozenset(G.nodes[v]['community']) for v in G}\n",
    "    return G, communities"
   ]
  },
  {
   "cell_type": "code",
   "execution_count": null,
   "metadata": {
    "pycharm": {
     "name": "#%%\n"
    }
   },
   "outputs": [],
   "source": [
    "def normalized_mutual_information(a,b):\n",
    "    # Fill this portion with the code for NMI, Do not use any library for directly computing NMI, \n",
    "    # You are free to use math functions from the math library\n",
    "    return # the score"
   ]
  },
  {
   "cell_type": "markdown",
   "source": [
    "## Part B: LFR synthetic network\n"
   ],
   "metadata": {
    "collapsed": false,
    "pycharm": {
     "name": "#%% md\n"
    }
   },
   "execution_count": 1
  },
  {
   "cell_type": "code",
   "execution_count": null,
   "metadata": {
    "pycharm": {
     "name": "#%%\n"
    }
   },
   "outputs": [],
   "source": [
    "# Plot the graphs in this cell"
   ]
  },
  {
   "cell_type": "markdown",
   "source": [
    "## Part C: the real-world datasets"
   ],
   "metadata": {
    "collapsed": false,
    "pycharm": {
     "name": "#%% md\n"
    }
   }
  },
  {
   "cell_type": "code",
   "execution_count": null,
   "metadata": {
    "pycharm": {
     "name": "#%%\n"
    }
   },
   "outputs": [],
   "source": [
    "# Part C starts here"
   ]
  },
  {
   "cell_type": "code",
   "execution_count": null,
   "metadata": {
    "pycharm": {
     "name": "#%%\n"
    }
   },
   "outputs": [],
   "source": []
  },
  {
   "cell_type": "markdown",
   "source": [
    "# Part 3 - Knowledge Question\n",
    "Tip: Markdown natively supports latex if you prefer to write your solution that way. https://katex.org/docs/support_table.html\n",
    "Just enclose the Tex commands between double or single \\$'s ."
   ],
   "metadata": {
    "collapsed": false,
    "pycharm": {
     "name": "#%% md\n"
    }
   }
  },
  {
   "cell_type": "code",
   "execution_count": null,
   "metadata": {
    "pycharm": {
     "name": "#%%\n"
    }
   },
   "outputs": [],
   "source": []
  }
 ],
 "metadata": {
  "kernelspec": {
   "display_name": "Python 3",
   "language": "python",
   "name": "python3"
  },
  "language_info": {
   "codemirror_mode": {
    "name": "ipython",
    "version": 3
   },
   "file_extension": ".py",
   "mimetype": "text/x-python",
   "name": "python",
   "nbconvert_exporter": "python",
   "pygments_lexer": "ipython3",
   "version": "3.8.3"
  }
 },
 "nbformat": 4,
 "nbformat_minor": 4
}